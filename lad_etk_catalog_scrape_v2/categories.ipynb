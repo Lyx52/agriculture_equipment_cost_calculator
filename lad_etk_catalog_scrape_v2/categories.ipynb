{
 "cells": [
  {
   "cell_type": "code",
   "execution_count": 1,
   "metadata": {},
   "outputs": [],
   "source": [
    "from utils import open_json\n",
    "x = open_json(\"data/lad_catalog/catalog.json\")"
   ]
  },
  {
   "cell_type": "code",
   "execution_count": 10,
   "metadata": {},
   "outputs": [],
   "source": [
    "category_list = {}\n",
    "\n",
    "for item in x:\n",
    "    if item['Kategorija'] not in category_list:\n",
    "        category_list[item['Kategorija']] = []\n",
    "    if item['Tehnikas vienība'] not in category_list[item['Kategorija']]:\n",
    "        category_list[item['Kategorija']].append(item['Tehnikas vienība'])\n",
    "    "
   ]
  },
  {
   "cell_type": "code",
   "execution_count": 13,
   "metadata": {},
   "outputs": [],
   "source": [
    "z = \"Kategorija,Apakškategorija\\n\"\n",
    "for [key, items] in category_list.items():\n",
    "    for item in items:\n",
    "        z += f\"{key},{item}\\n\"\n",
    "with open(\"lad_categories.csv\", \"w\", encoding=\"UTF-8\") as fp:\n",
    "    fp.write(z)\n",
    "    fp.close()"
   ]
  },
  {
   "cell_type": "code",
   "execution_count": null,
   "metadata": {},
   "outputs": [],
   "source": []
  }
 ],
 "metadata": {
  "kernelspec": {
   "display_name": "Python 3",
   "language": "python",
   "name": "python3"
  },
  "language_info": {
   "codemirror_mode": {
    "name": "ipython",
    "version": 3
   },
   "file_extension": ".py",
   "mimetype": "text/x-python",
   "name": "python",
   "nbconvert_exporter": "python",
   "pygments_lexer": "ipython3",
   "version": "3.12.4"
  }
 },
 "nbformat": 4,
 "nbformat_minor": 2
}
