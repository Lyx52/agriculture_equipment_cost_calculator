{
 "cells": [
  {
   "cell_type": "code",
   "execution_count": 2,
   "metadata": {},
   "outputs": [
    {
     "ename": "TypeError",
     "evalue": "'NoneType' object is not iterable",
     "output_type": "error",
     "traceback": [
      "\u001b[1;31m---------------------------------------------------------------------------\u001b[0m",
      "\u001b[1;31mTypeError\u001b[0m                                 Traceback (most recent call last)",
      "Cell \u001b[1;32mIn[2], line 38\u001b[0m\n\u001b[0;32m     31\u001b[0m             codifiers\u001b[38;5;241m.\u001b[39mappend({\n\u001b[0;32m     32\u001b[0m                 \u001b[38;5;124m\"\u001b[39m\u001b[38;5;124mCode\u001b[39m\u001b[38;5;124m\"\u001b[39m: normalize_text(child),\n\u001b[0;32m     33\u001b[0m                 \u001b[38;5;124m\"\u001b[39m\u001b[38;5;124mParentCode\u001b[39m\u001b[38;5;124m\"\u001b[39m: normalize_text(parent),\n\u001b[0;32m     34\u001b[0m                 \u001b[38;5;124m\"\u001b[39m\u001b[38;5;124mName\u001b[39m\u001b[38;5;124m\"\u001b[39m: child\u001b[38;5;241m.\u001b[39mstrip()\n\u001b[0;32m     35\u001b[0m             })\n\u001b[0;32m     36\u001b[0m             added\u001b[38;5;241m.\u001b[39mappend(child)\n\u001b[1;32m---> 38\u001b[0m \u001b[43mcodifiers\u001b[49m\u001b[38;5;241;43m.\u001b[39;49m\u001b[43mextend\u001b[49m\u001b[43m(\u001b[49m\u001b[43mbuild_categories\u001b[49m\u001b[43m(\u001b[49m\u001b[38;5;124;43m\"\u001b[39;49m\u001b[38;5;124;43mdata/lad_categories.csv\u001b[39;49m\u001b[38;5;124;43m\"\u001b[39;49m\u001b[43m,\u001b[49m\u001b[43m \u001b[49m\u001b[38;5;124;43m\"\u001b[39;49m\u001b[38;5;124;43mequipment_type_categories\u001b[39;49m\u001b[38;5;124;43m\"\u001b[39;49m\u001b[43m)\u001b[49m\u001b[43m)\u001b[49m\n\u001b[0;32m     39\u001b[0m codifiers\u001b[38;5;241m.\u001b[39mextend(build_categories(\u001b[38;5;124m\"\u001b[39m\u001b[38;5;124mdata/lad_crops.csv\u001b[39m\u001b[38;5;124m\"\u001b[39m, \u001b[38;5;124m\"\u001b[39m\u001b[38;5;124mcrop_type_categories\u001b[39m\u001b[38;5;124m\"\u001b[39m))\n\u001b[0;32m     41\u001b[0m \u001b[38;5;28;01mwith\u001b[39;00m \u001b[38;5;28mopen\u001b[39m(\u001b[38;5;124m'\u001b[39m\u001b[38;5;124mdata/equipment_type_codifiers.json\u001b[39m\u001b[38;5;124m'\u001b[39m, \u001b[38;5;124m\"\u001b[39m\u001b[38;5;124mw\u001b[39m\u001b[38;5;124m\"\u001b[39m, encoding\u001b[38;5;241m=\u001b[39m\u001b[38;5;124m\"\u001b[39m\u001b[38;5;124mUTF-8\u001b[39m\u001b[38;5;124m\"\u001b[39m) \u001b[38;5;28;01mas\u001b[39;00m fp:\n",
      "\u001b[1;31mTypeError\u001b[0m: 'NoneType' object is not iterable"
     ]
    }
   ],
   "source": [
    "import re, json\n",
    "from utils import normalize_text\n",
    "\n",
    "codifiers = [\n",
    "    {\n",
    "        \"Code\": \"equipment_type_categories\",\n",
    "        \"ParentCode\": None,\n",
    "        \"Name\": \"Tehnikas vienības kategorijas\"\n",
    "    },\n",
    "    {\n",
    "        \"Code\": \"crop_type_categories\",\n",
    "        \"ParentCode\": None,\n",
    "        \"Name\": \"Kūltūraugu veidi\"\n",
    "    },\n",
    "]\n",
    "def build_categories(file, top_parent):\n",
    "    categories = open(file, \"r\", encoding=\"UTF-8\")\n",
    "    lines = categories.readlines()\n",
    "    categories.close()\n",
    "    added = []\n",
    "    values = []\n",
    "    for line in lines:\n",
    "        [parent, child] = line.split(';')\n",
    "        if parent not in added:\n",
    "            values.append({\n",
    "                \"Code\": normalize_text(parent),\n",
    "                \"ParentCode\": top_parent,\n",
    "                \"Name\": parent.strip()\n",
    "            })\n",
    "            added.append(parent)\n",
    "        if child not in added:\n",
    "            values.append({\n",
    "                \"Code\": normalize_text(child),\n",
    "                \"ParentCode\": normalize_text(parent),\n",
    "                \"Name\": child.strip()\n",
    "            })\n",
    "            added.append(child)\n",
    "    return values\n",
    "\n",
    "codifiers.extend(build_categories(\"data/lad_categories.csv\", \"equipment_type_categories\"))\n",
    "codifiers.extend(build_categories(\"data/lad_crops.csv\", \"crop_type_categories\"))\n",
    "\n",
    "with open('data/equipment_type_codifiers.json', \"w\", encoding=\"UTF-8\") as fp:\n",
    "    json.dump(codifiers, fp, indent=4)\n"
   ]
  }
 ],
 "metadata": {
  "kernelspec": {
   "display_name": "Python 3",
   "language": "python",
   "name": "python3"
  },
  "language_info": {
   "codemirror_mode": {
    "name": "ipython",
    "version": 3
   },
   "file_extension": ".py",
   "mimetype": "text/x-python",
   "name": "python",
   "nbconvert_exporter": "python",
   "pygments_lexer": "ipython3",
   "version": "3.12.4"
  }
 },
 "nbformat": 4,
 "nbformat_minor": 2
}
