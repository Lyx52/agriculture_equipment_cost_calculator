{
 "cells": [
  {
   "cell_type": "code",
   "execution_count": 6,
   "metadata": {},
   "outputs": [],
   "source": [
    "from utils import open_json, clean_key, save_json, normalize_text\n",
    "lad_catalog_data = list(filter(lambda i: i['category'] == 'tractor', open_json('lad_catalog_data.json')))\n",
    "tractordata_catalog = open_json('tractordata_catalog.json')\n",
    "\n"
   ]
  },
  {
   "cell_type": "code",
   "execution_count": 7,
   "metadata": {},
   "outputs": [
    {
     "name": "stdout",
     "output_type": "stream",
     "text": [
      "Similarity: 100.00 %\n"
     ]
    },
    {
     "name": "stderr",
     "output_type": "stream",
     "text": [
      "c:\\Users\\Lietotajs\\AppData\\Local\\Programs\\Python\\Python310\\lib\\site-packages\\fuzzywuzzy\\fuzz.py:11: UserWarning: Using slow pure-python SequenceMatcher. Install python-Levenshtein to remove this warning\n",
      "  warnings.warn('Using slow pure-python SequenceMatcher. Install python-Levenshtein to remove this warning')\n",
      "[nltk_data] Downloading package punkt_tab to\n",
      "[nltk_data]     C:\\Users\\Lietotajs\\AppData\\Roaming\\nltk_data...\n",
      "[nltk_data]   Package punkt_tab is already up-to-date!\n"
     ]
    }
   ],
   "source": [
    "# using nltk\n",
    "from nltk.tokenize import word_tokenize\n",
    "import nltk\n",
    "from fuzzywuzzy import fuzz\n",
    "from utils import open_json, clean_key, save_json, normalize_text\n",
    "nltk.download('punkt_tab')\n",
    "def nltk_fuzzy_similarity(a: str, b: str) -> float:\n",
    "    normalized_a = normalize_text(a)\n",
    "    normalized_b = normalize_text(b)\n",
    "\n",
    "    tokenized_a = word_tokenize(normalized_a)\n",
    "    tokenized_b = word_tokenize(normalized_b)\n",
    "\n",
    "    return fuzz.token_sort_ratio(normalized_a, normalized_b) / 100\n",
    "\n",
    "lad_model = \"MULTI 4120\"\n",
    "tractordata_model = \"4120 Multi\"\n",
    "\n",
    "similarity = nltk_fuzzy_similarity(lad_model, tractordata_model)\n",
    "\n",
    "\n",
    "print(f\"Similarity: {similarity * 100:.2f} %\")"
   ]
  },
  {
   "cell_type": "code",
   "execution_count": 8,
   "metadata": {},
   "outputs": [
    {
     "name": "stdout",
     "output_type": "stream",
     "text": [
      "Similarity: 96.49 %\n"
     ]
    }
   ],
   "source": [
    "# using sentence transformers\n",
    "from sentence_transformers import SentenceTransformer, util\n",
    "model = SentenceTransformer('all-MiniLM-L6-v2')\n",
    "\n",
    "lad_model = \"MULTI 4120\"\n",
    "tractordata_model = \"4120 Multi\"\n",
    "\n",
    "def sentence_transformer_similarity(model: SentenceTransformer, a: str, b: str) -> float:\n",
    "    normalized_a = normalize_text(a)\n",
    "    normalized_b = normalize_text(b)\n",
    "    embedding_a = model.encode(normalized_a)\n",
    "    embedding_b = model.encode(normalized_b)\n",
    "\n",
    "    return util.cos_sim(embedding_a, embedding_b).item()\n",
    "similarity = sentence_transformer_similarity(model, lad_model, tractordata_model)\n",
    "print(f\"Similarity: {similarity * 100:.2f} %\")"
   ]
  },
  {
   "cell_type": "code",
   "execution_count": 9,
   "metadata": {},
   "outputs": [
    {
     "name": "stdout",
     "output_type": "stream",
     "text": [
      "Similarity: 100.00 %\n"
     ]
    }
   ],
   "source": [
    "# rapid fuzz\n",
    "from rapidfuzz import fuzz\n",
    "\n",
    "lad_model = \"MULTI 4120\"\n",
    "tractordata_model = \"4120 Multi\"\n",
    "def rapidfuzz_similarity(a: str, b: str) -> float:\n",
    "    normalized_a = normalize_text(a)\n",
    "    normalized_b = normalize_text(b)\n",
    "    return fuzz.token_sort_ratio(normalized_a, normalized_b) / 100\n",
    "\n",
    "similarity = rapidfuzz_similarity(lad_model, tractordata_model)\n",
    "print(f\"Similarity: {similarity * 100:.2f} %\")"
   ]
  },
  {
   "cell_type": "code",
   "execution_count": 14,
   "metadata": {},
   "outputs": [
    {
     "name": "stdout",
     "output_type": "stream",
     "text": [
      "Similarity: 98.95 %\n"
     ]
    }
   ],
   "source": [
    "# combined sentence transformer & rapid fuzz matching\n",
    "from rapidfuzz import fuzz\n",
    "from sentence_transformers import SentenceTransformer, util\n",
    "model = SentenceTransformer('all-MiniLM-L6-v2')\n",
    "\n",
    "def rapidfuzz_similarity(a: str, b: str) -> float:\n",
    "    normalized_a = normalize_text(a)\n",
    "    normalized_b = normalize_text(b)\n",
    "    return fuzz.token_sort_ratio(normalized_a, normalized_b) / 100\n",
    "\n",
    "def sentence_transformer_similarity(model: SentenceTransformer, a: str, b: str) -> float:\n",
    "    normalized_a = normalize_text(a)\n",
    "    normalized_b = normalize_text(b)\n",
    "    embedding_a = model.encode(normalized_a)\n",
    "    embedding_b = model.encode(normalized_b)\n",
    "\n",
    "    return util.cos_sim(embedding_a, embedding_b).item()\n",
    "\n",
    "# fuzzy and sentence matching\n",
    "def sentence_transformer_fuzzy_similarity(model: SentenceTransformer, a: str, b: str) -> float: \n",
    "    fuzzy_score = rapidfuzz_similarity(a, b)\n",
    "    sentence_similarity = sentence_transformer_similarity(model, a, b)\n",
    "    return (fuzzy_score * 0.7) + (sentence_similarity * 0.3)\n",
    "\n",
    "lad_model = \"MULTI 4120\"\n",
    "tractordata_model = \"4120 Multi\"\n",
    "\n",
    "similarity = sentence_transformer_fuzzy_similarity(model, lad_model, tractordata_model)\n",
    "print(f\"Similarity: {similarity * 100:.2f} %\")"
   ]
  },
  {
   "cell_type": "code",
   "execution_count": null,
   "metadata": {},
   "outputs": [],
   "source": []
  }
 ],
 "metadata": {
  "kernelspec": {
   "display_name": "Python 3.10.7 64-bit",
   "language": "python",
   "name": "python3"
  },
  "language_info": {
   "codemirror_mode": {
    "name": "ipython",
    "version": 3
   },
   "file_extension": ".py",
   "mimetype": "text/x-python",
   "name": "python",
   "nbconvert_exporter": "python",
   "pygments_lexer": "ipython3",
   "version": "3.10.7"
  },
  "vscode": {
   "interpreter": {
    "hash": "a8af0655dcb3804cfb28f714b0a47177ce2c4b033ba417722bdb729662093793"
   }
  }
 },
 "nbformat": 4,
 "nbformat_minor": 2
}
