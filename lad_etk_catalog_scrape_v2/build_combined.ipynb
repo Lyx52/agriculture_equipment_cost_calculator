{
 "cells": [
  {
   "cell_type": "code",
   "execution_count": 30,
   "metadata": {},
   "outputs": [],
   "source": [
    "from utils import open_json, clean_key, save_json, normalize_text\n",
    "lad_catalog_data = list(filter(lambda i: i['category'] == 'tractor', open_json('lad_catalog_data.json')))\n",
    "tractordata_catalog = open_json('tractordata_catalog.json')\n",
    "lad_models = [item['model'] for item in filter(lambda i: i['manufacturer_key'] == 'steyr', lad_catalog_data)]\n",
    "tractordata_models = [item['model'] for item in filter(lambda i: i['manufacturer_key'] == 'steyr', tractordata_catalog)]\n"
   ]
  },
  {
   "cell_type": "code",
   "execution_count": 31,
   "metadata": {},
   "outputs": [
    {
     "name": "stdout",
     "output_type": "stream",
     "text": [
      "Similarity: 100.00 %\n"
     ]
    },
    {
     "name": "stderr",
     "output_type": "stream",
     "text": [
      "[nltk_data] Downloading package punkt_tab to\n",
      "[nltk_data]     C:\\Users\\Lietotajs\\AppData\\Roaming\\nltk_data...\n",
      "[nltk_data]   Package punkt_tab is already up-to-date!\n"
     ]
    }
   ],
   "source": [
    "# using nltk\n",
    "from nltk.tokenize import word_tokenize\n",
    "import nltk\n",
    "from fuzzywuzzy import fuzz\n",
    "from utils import open_json, clean_key, save_json, normalize_text\n",
    "nltk.download('punkt_tab')\n",
    "def nltk_fuzzy_similarity(a: str, b: str) -> float:\n",
    "    normalized_a = normalize_text(a)\n",
    "    normalized_b = normalize_text(b)\n",
    "\n",
    "    tokenized_a = word_tokenize(normalized_a)\n",
    "    tokenized_b = word_tokenize(normalized_b)\n",
    "\n",
    "    return fuzz.token_sort_ratio(normalized_a, normalized_b) / 100\n",
    "\n",
    "lad_model = \"MULTI 4120\"\n",
    "tractordata_model = \"4120 Multi\"\n",
    "\n",
    "similarity = nltk_fuzzy_similarity(lad_model, tractordata_model)\n",
    "\n",
    "\n",
    "print(f\"Similarity: {similarity * 100:.2f} %\")"
   ]
  },
  {
   "cell_type": "code",
   "execution_count": 32,
   "metadata": {},
   "outputs": [
    {
     "name": "stdout",
     "output_type": "stream",
     "text": [
      "Similarity: 96.49 %\n"
     ]
    }
   ],
   "source": [
    "# using sentence transformers\n",
    "from sentence_transformers import SentenceTransformer, util\n",
    "model = SentenceTransformer('all-MiniLM-L6-v2')\n",
    "\n",
    "lad_model = \"MULTI 4120\"\n",
    "tractordata_model = \"4120 Multi\"\n",
    "\n",
    "def sentence_transformer_similarity(model: SentenceTransformer, a: str, b: str) -> float:\n",
    "    normalized_a = normalize_text(a)\n",
    "    normalized_b = normalize_text(b)\n",
    "    embedding_a = model.encode(normalized_a)\n",
    "    embedding_b = model.encode(normalized_b)\n",
    "\n",
    "    return util.cos_sim(embedding_a, embedding_b).item()\n",
    "similarity = sentence_transformer_similarity(model, lad_model, tractordata_model)\n",
    "print(f\"Similarity: {similarity * 100:.2f} %\")"
   ]
  },
  {
   "cell_type": "code",
   "execution_count": 33,
   "metadata": {},
   "outputs": [
    {
     "name": "stdout",
     "output_type": "stream",
     "text": [
      "Similarity: 100.00 %\n"
     ]
    }
   ],
   "source": [
    "# rapid fuzz\n",
    "from rapidfuzz import fuzz\n",
    "\n",
    "lad_model = \"MULTI 4120\"\n",
    "tractordata_model = \"4120 Multi\"\n",
    "def rapidfuzz_similarity(a: str, b: str) -> float:\n",
    "    normalized_a = normalize_text(a)\n",
    "    normalized_b = normalize_text(b)\n",
    "    return fuzz.token_sort_ratio(normalized_a, normalized_b) / 100\n",
    "\n",
    "similarity = rapidfuzz_similarity(lad_model, tractordata_model)\n",
    "print(f\"Similarity: {similarity * 100:.2f} %\")"
   ]
  },
  {
   "cell_type": "code",
   "execution_count": 34,
   "metadata": {},
   "outputs": [
    {
     "name": "stdout",
     "output_type": "stream",
     "text": [
      "Similarity: 98.24 %\n"
     ]
    }
   ],
   "source": [
    "# combined sentence transformer & rapid fuzz matching\n",
    "from rapidfuzz import fuzz\n",
    "from sentence_transformers import SentenceTransformer, util\n",
    "model = SentenceTransformer('all-MiniLM-L6-v2')\n",
    "\n",
    "def rapidfuzz_similarity(a: str, b: str) -> float:\n",
    "    normalized_a = normalize_text(a)\n",
    "    normalized_b = normalize_text(b)\n",
    "    return fuzz.token_sort_ratio(normalized_a, normalized_b) / 100\n",
    "\n",
    "def sentence_transformer_similarity(model: SentenceTransformer, a: str, b: str) -> float:\n",
    "    normalized_a = normalize_text(a)\n",
    "    normalized_b = normalize_text(b)\n",
    "    embedding_a = model.encode(normalized_a)\n",
    "    embedding_b = model.encode(normalized_b)\n",
    "\n",
    "    return util.cos_sim(embedding_a, embedding_b).item()\n",
    "\n",
    "# fuzzy and sentence matching\n",
    "def sentence_transformer_fuzzy_similarity(model: SentenceTransformer, a: str, b: str) -> float: \n",
    "    fuzzy_score = rapidfuzz_similarity(a, b)\n",
    "    sentence_similarity = sentence_transformer_similarity(model, a, b)\n",
    "    return (fuzzy_score * 0.6) + (sentence_similarity * 0.4), fuzzy_score, sentence_similarity\n",
    "\n",
    "lad_model = \"MULTI 4120\"\n",
    "tractordata_model = \"4120 Multi\"\n",
    "\n",
    "similarity, fuzzy, sentence_similarity = sentence_transformer_fuzzy_similarity(model, lad_model, tractordata_model)\n",
    "print(f\"Similarity: {similarity * 100:.2f} %\")"
   ]
  },
  {
   "cell_type": "code",
   "execution_count": 35,
   "metadata": {},
   "outputs": [
    {
     "name": "stdout",
     "output_type": "stream",
     "text": [
      "'MULTI 4120' best match '4120 Multi' with similarity 0.9824487268924713 (fuzzy: 1.0, sentence: 0.9648974537849426)\n",
      "'MULTI 4120' best match '4120 Multi' with similarity 0.9824487268924713 (fuzzy: 1.0, sentence: 0.9648974537849426)\n",
      "'KOMPAKT 4100' best match '4100 Multi' with similarity 0.6419656330888921 (fuzzy: 0.6363636363636364, sentence: 0.647567629814148)\n",
      "'KOMPAKT 4080' best match '4100 Multi' with similarity 0.4719266959212043 (fuzzy: 0.5454545454545454, sentence: 0.39839884638786316)\n",
      "'PROFI 6150' best match '6140 Profi' with similarity 0.8886162459850311 (fuzzy: 0.9, sentence: 0.8772324919700623)\n",
      "'PROFI 6150 CVT' best match '4120 Profi CVT' with similarity 0.82660254410335 (fuzzy: 0.8571428571428572, sentence: 0.7960622310638428)\n",
      "'IMPULS 6165 CVT' best match '6150 CVT' with similarity 0.7168168853158536 (fuzzy: 0.6086956521739131, sentence: 0.8249381184577942)\n",
      "'IMPULS 6175 CVT' best match '6175 CVT' with similarity 0.7614860767903535 (fuzzy: 0.6956521739130435, sentence: 0.8273199796676636)\n",
      "'ABSOLUT 6200 CVT' best match '6150 CVT' with similarity 0.5963809490203857 (fuzzy: 0.5, sentence: 0.6927618980407715)\n"
     ]
    }
   ],
   "source": [
    "from rapidfuzz import fuzz\n",
    "from sentence_transformers import SentenceTransformer, util\n",
    "model = SentenceTransformer('all-MiniLM-L6-v2')\n",
    "\n",
    "for lmodel in lad_models:\n",
    "    best_match = (-1, -1, -1, '')\n",
    "    for tmodel in tractordata_models:\n",
    "        similarity, fuzzy, sentence_similarity = sentence_transformer_fuzzy_similarity(model, lmodel, tmodel)\n",
    "        if similarity > best_match[0]:\n",
    "            best_match = (similarity, fuzzy, sentence_similarity , tmodel)\n",
    "    print(f\"'{lmodel}' best match '{best_match[3]}' with similarity {best_match[0]} (fuzzy: {best_match[1]}, sentence: {best_match[2]})\")"
   ]
  },
  {
   "cell_type": "code",
   "execution_count": 4,
   "metadata": {},
   "outputs": [
    {
     "name": "stdout",
     "output_type": "stream",
     "text": [
      "{'engine_power_kw': 28.3366, 'pto_power_kw': 22.0, 'powertrain': '4x4', 'hydrolic_pump_flow': 45.5, 'lift_capacity': 906.0, 'wheelbase': 1.73, 'weight': 1389.0, 'engine_cylinders': 3}\n"
     ]
    }
   ],
   "source": [
    "x = {'category': 'tractor', 'sub_category': 'tractor_4x4', 'manufacturer': 'KUBOTA', 'model': 'L1-382', 'sources': ['https://eps.lad.gov.lv/show_etk_public?action=index&controller=catalog_entries_public&id=11555&page=39'], 'price': 32600.0, 'equipment_level_code': 'medium', 'specification': {\n",
    "    'powertrain': '4x4', \n",
    "    'engine_power_kw': 28.3366, \n",
    "    'engine_cylinders': 3, \n",
    "    'hydrolic_pump_flow': 45.5, \n",
    "    'lift_capacity': 906.0\n",
    "    }, 'model_key': 'l1382', 'manufacturer_key': 'kubota'} \n",
    "\n",
    "y = {'category': 'tractor', 'sub_category': 'tractor_4x4', 'manufacturer': 'Kubota', 'model': 'L1-325', 'sources': ['https://www.tractordata.com/farm-tractors/009/6/4/9640-kubota-l1-325.html'], 'price': -1, 'equipment_level_code': 'base', 'specification': {\n",
    "    'engine_power_kw': 23.6, \n",
    "    'pto_power_kw': 22.0, \n",
    "    'powertrain': '4x4', \n",
    "    'hydrolic_pump_flow': 23.5, \n",
    "    'lift_capacity': 729.0, \n",
    "    'wheelbase': 1.73, \n",
    "    'weight': 1389.0\n",
    "    }, 'model_key': 'l1325', 'manufacturer_key': 'kubota'}\n",
    "\n",
    "print({**y['specification'], **x['specification']})"
   ]
  },
  {
   "cell_type": "code",
   "execution_count": null,
   "metadata": {},
   "outputs": [],
   "source": [
    "from utils import save_json\n",
    "data = \"\"\"tractor_4x2;0.10;0.20;0.30;0.20;0.30;0.40;0.50;0.60;0.70;0.80;0.90;1.00;1.10;1.20;1.30;1.40;1.50;1.50;1.50;1.50;1.50;3.00;3.25;3.50;3.75;4.25;4.50;4.75;5.10;5.40;5.80;6;11;18;25;34;45;57;70;;\n",
    "tractor_4x4;0;0;0;0;0;0;0;0;0;0;0;0.00;0.10;0.20;0.30;0.40;0.60;0.60;0.70;0.80;0.90;1.00;1.10;1.20;1.30;1.40;1.50;1.50;1.50;1.50;1.50;3;5;8;11;15;19;24;30;;\n",
    "plough;0.50;0.75;1.00;2;4;6;9;12;16;19;24;29;35;40;47;53;61;68;76;84;93;101;;;;;;;;;;;;;;;;;;;\n",
    "harrow;1.00;1.25;1.50;3;5;7;10;13;17;20;24;27;31;35;39;43;48;52;56;61;66;71;;;;;;;;;;;;;;;;;;;\n",
    "cultivator;1.00;1.25;1.50;3;5;7;10;13;17;20;24;27;31;35;39;43;48;52;56;61;66;71;;;;;;;;;;;;;;;;;;;\n",
    "row_cultivator;0.00;0.00;0.00;0;1;2;4;6;8;10;14;17;21;25;31;36;42;48;55;62;70;78;;;;;;;;;;;;;;;;;;;\n",
    "packing_press;0.00;0.25;0.50;1;3;4;7;9;12;15;19;23;28;32;37;42;48;54;60;66;73;80;;;;;;;;;;;;;;;;;;;\n",
    "balling_press;0.50;0.75;1;2;5;8;12;17;23;29;36;43;46.10;50.36;54.62;58.88;63.14;67.40;71.66;75.91;80.17;84.43;;;;;;;;;;;;;;;;;;;\n",
    "combine;0;0;0;0;0;0.30;0.70;1;1.30;1.70;2;3.00;3.50;4;4.60;5.40;6;7;8;9;10;11;12;14.00;15.00;16;18.00;19.00;20;22.50;23.80;25;27.50;28.70;30;32.50;33.80;35;37.50;38.80;40\n",
    "potato_combine;0.50;0.75;1.00;2;4;5;7;9;12;14;17;19;22;25;28;30;34;37;40;43;47;50;;;;;;;;;;;;;;;;;;;\n",
    "seed_drill;0.00;0.00;0;1;3;5;7;11;15;20;26;32;32.91;36;39;42;45;48;52;55;58;61;;;;;;;;;;;;;;;;;;;\n",
    "planter;0.00;0.00;0;1;3;5;7;11;15;20;26;32;32.91;36.03;39.14;42.26;45.37;48.49;51.60;54.72;57.83;60.95;;;;;;;;;;;;;;;;;;;\n",
    "\"\"\"\n",
    "result = {}\n",
    "for line in data.splitlines():\n",
    "    values = line.split(';')\n",
    "    result[values[0]] = list(map(lambda v: round(float('0' if len(v) <= 0 else v) / 100, 2), values[1:]))\n",
    "save_json(\"repair_cost.json\", result)"
   ]
  }
 ],
 "metadata": {
  "kernelspec": {
   "display_name": "Python 3",
   "language": "python",
   "name": "python3"
  },
  "language_info": {
   "codemirror_mode": {
    "name": "ipython",
    "version": 3
   },
   "file_extension": ".py",
   "mimetype": "text/x-python",
   "name": "python",
   "nbconvert_exporter": "python",
   "pygments_lexer": "ipython3",
   "version": "3.12.4"
  }
 },
 "nbformat": 4,
 "nbformat_minor": 2
}
